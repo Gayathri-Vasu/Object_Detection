{
 "cells": [
  {
   "cell_type": "code",
   "execution_count": null,
   "id": "969f2e59-9d99-4fca-8c13-f34698bfcd9f",
   "metadata": {},
   "outputs": [],
   "source": [
    "import cv2\n",
    "import matplotlib.pyplot as plt"
   ]
  },
  {
   "cell_type": "code",
   "execution_count": null,
   "id": "a85f9f62-ddb9-4058-951d-cb23dca130dc",
   "metadata": {},
   "outputs": [],
   "source": [
    "config_file = 'ssd_mobilenet_v3_large_coco_2020_01_14.pbtxt'\n",
    "frozen_model = 'frozen_inference_graph.pb'"
   ]
  },
  {
   "cell_type": "code",
   "execution_count": null,
   "id": "a7112379-8bdd-4f7a-9357-06fc973f6e7e",
   "metadata": {},
   "outputs": [],
   "source": [
    "model = cv2.dnn_DetectionModel(frozen_model, config_file)"
   ]
  },
  {
   "cell_type": "code",
   "execution_count": null,
   "id": "2558728f-866b-404d-9f83-ec4779c0c48e",
   "metadata": {},
   "outputs": [],
   "source": [
    "classLabels = []\n",
    "file_name = 'labels.txt'\n",
    "with open(file_name, 'rt') as fpt:\n",
    "    classLabels = fpt.read().rstrip('\\n').split('\\n')"
   ]
  },
  {
   "cell_type": "code",
   "execution_count": null,
   "id": "555f4a3e-0c02-4143-9715-062b53eca097",
   "metadata": {},
   "outputs": [],
   "source": [
    "print(classLabels)"
   ]
  },
  {
   "cell_type": "code",
   "execution_count": null,
   "id": "8a4568ea-1288-4625-8e3c-70dd5f17e95a",
   "metadata": {},
   "outputs": [],
   "source": [
    "print(len(classLabels))"
   ]
  },
  {
   "cell_type": "code",
   "execution_count": null,
   "id": "7be3eeb1-92f3-417b-b2e9-4ba9afb106ab",
   "metadata": {},
   "outputs": [],
   "source": [
    "model.setInputSize(320,320)\n",
    "model.setInputScale(1.0/127.5)\n",
    "model.setInputMean((127.5,127.5,127.5))\n",
    "model.setInputSwapRB(True)"
   ]
  },
  {
   "cell_type": "code",
   "execution_count": null,
   "id": "d5d4bb8e-ca4b-46a1-b9e8-d45c1548d50f",
   "metadata": {},
   "outputs": [],
   "source": [
    "img = cv2.imread('traffic.jpg')\n",
    "plt.imshow(img)"
   ]
  },
  {
   "cell_type": "code",
   "execution_count": null,
   "id": "79de5cb8-870e-45cb-bfd6-47c89a3dcd9f",
   "metadata": {},
   "outputs": [],
   "source": [
    "ClassIndex, confidece, bbox=model.detect(img, confThreshold=0.5)"
   ]
  },
  {
   "cell_type": "code",
   "execution_count": null,
   "id": "1a48512e-c446-4186-a055-cb4f22cd16ea",
   "metadata": {},
   "outputs": [],
   "source": [
    "print(ClassIndex)"
   ]
  },
  {
   "cell_type": "code",
   "execution_count": null,
   "id": "41bf1b05-6a3a-4677-b598-38b64fe98498",
   "metadata": {},
   "outputs": [],
   "source": [
    "font_scale = 3\n",
    "font = cv2.FONT_HERSHEY_PLAIN\n",
    "for ClassInd, conf, boxes in zip(ClassIndex.flatten(), confidece.flatten(), bbox):\n",
    "    cv2.rectangle(img, boxes, (255, 0, 0), 2)\n",
    "    cv2.putText(img, classLabels[ClassInd-1], (boxes[0]+10, boxes[1]+40), font, fontScale = font_scale, color=(0,255,0), thickness=3)"
   ]
  },
  {
   "cell_type": "code",
   "execution_count": null,
   "id": "da455990-6116-4f4b-b9ff-c7c19f5a4efa",
   "metadata": {},
   "outputs": [],
   "source": [
    "plt.imshow(cv2.cvtColor(img, cv2.COLOR_BGR2RGB))"
   ]
  },
  {
   "cell_type": "code",
   "execution_count": null,
   "id": "1e2b96a4-a441-416e-8b37-9bfd460388b6",
   "metadata": {},
   "outputs": [],
   "source": [
    "cap = cv2.VideoCapture(0)\n",
    "if not cap.isOpened():\n",
    "    cap = cv2.VideoCapture(0)\n",
    "if not cap.isOpened():\n",
    "    raise IOError('Cant open the video')"
   ]
  },
  {
   "cell_type": "code",
   "execution_count": null,
   "id": "c8a5cf93-92df-4d1a-a79b-349450e1fec6",
   "metadata": {},
   "outputs": [
    {
     "name": "stdout",
     "output_type": "stream",
     "text": [
      "[1 1 1]\n",
      "[1 1]\n",
      "[1 1 1]\n",
      "[1 1 1]\n",
      "[1 1 1]\n",
      "[1 1 1]\n",
      "[1 1 1]\n",
      "[1 1 1]\n",
      "[1 1 1]\n",
      "[1 1 1]\n",
      "[1 1 1]\n",
      "[1 1 1]\n",
      "[1 1 1]\n",
      "[1 1 1]\n",
      "[1 1 1]\n",
      "[1 1 1]\n",
      "[1 1 1]\n",
      "[1 1 1]\n",
      "[1 1 1]\n",
      "[1 1 1]\n",
      "[1 1]\n",
      "[1 1 1]\n",
      "[1 1]\n",
      "[1 1 1]\n",
      "[1 1 1]\n",
      "[1 1]\n",
      "[1 1 1]\n",
      "[1 1]\n",
      "[1 1]\n",
      "[1 1]\n",
      "[1 1]\n",
      "[1 1]\n",
      "[1 1]\n",
      "[1 1]\n",
      "[1 1]\n",
      "[1 1]\n",
      "[1 1]\n",
      "[1 1]\n",
      "[1 1]\n",
      "[1 1]\n",
      "[1 1 1]\n",
      "[1 1]\n",
      "[1 1 1]\n",
      "[1 1]\n",
      "[1 1]\n",
      "[1 1]\n",
      "[1 1]\n",
      "[1 1]\n",
      "[1 1]\n",
      "[1 1]\n",
      "[1 1]\n",
      "[1 1]\n",
      "[1 1 1]\n",
      "[1 1]\n",
      "[1 1 1]\n",
      "[1 1]\n",
      "[1 1]\n",
      "[1 1]\n",
      "[1 1]\n",
      "[1 1]\n",
      "[1 1]\n",
      "[1 1]\n",
      "[1 1]\n",
      "[1 1]\n",
      "[1]\n",
      "[ 1  1 44]\n",
      "[1]\n",
      "[ 1  1 44]\n",
      "[ 1  1 44]\n",
      "[1 1]\n",
      "[ 1  1 44]\n",
      "[1 1]\n",
      "[1 1]\n",
      "[1 1 1]\n",
      "[1 1]\n",
      "[1 1 1]\n",
      "[1 1 1 1]\n",
      "[1 1 1 1]\n",
      "[1 1 1 1]\n",
      "[1 1 1 1]\n",
      "[1 1 1]\n",
      "[1 1 1]\n",
      "[1 1 1]\n",
      "[1 1 1]\n",
      "[1 1 1 1]\n",
      "[1 1 1]\n",
      "[1 1 1 1]\n",
      "[1 1 1]\n",
      "[1 1 1]\n",
      "[1 1 1]\n",
      "[1 1 1]\n",
      "[1 1 1]\n",
      "[1 1 1]\n",
      "[1 1 1]\n",
      "[1 1 1]\n",
      "[1 1 1]\n",
      "[1 1]\n",
      "[1 1]\n",
      "[1 1 1]\n",
      "[1 1 1]\n",
      "[1 1 1]\n",
      "[1 1 1]\n",
      "[1 1 1]\n",
      "[1 1 1]\n",
      "[1 1 1]\n",
      "[1 1 1]\n",
      "[1 1]\n",
      "[1 1]\n",
      "[1 1]\n",
      "[1 1]\n"
     ]
    }
   ],
   "source": [
    "font_scale = 3\n",
    "font = cv2.FONT_HERSHEY_PLAIN\n",
    "\n",
    "print(\"Starting video capture...\")\n",
    "while True:\n",
    "    ret, frame = cap.read()\n",
    "    \n",
    "    # Check if frame is read correctly\n",
    "    if not ret or frame is None:\n",
    "        print(\"Can't receive frame (stream end?). Exiting ...\")\n",
    "        break\n",
    "    \n",
    "    try:\n",
    "        ClassIndex, confidece, bbox = model.detect(frame, confThreshold=0.5)\n",
    "        print(ClassIndex)\n",
    "\n",
    "        if(len(ClassIndex)!=0):\n",
    "            for ClassInd, conf, boxes in zip(ClassIndex.flatten(), confidece.flatten(), bbox):\n",
    "                if(ClassInd<=80):\n",
    "                    cv2.rectangle(frame, boxes, (255, 0, 0), 2)\n",
    "                    cv2.putText(frame, classLabels[ClassInd-1], (boxes[0]+10, boxes[1]+40), font, fontScale = font_scale, color=(0,255,0), thickness=3)\n",
    "\n",
    "        cv2.imshow('objectDetection by Gayu', frame)\n",
    "        \n",
    "        # Increased wait time to 30ms for better processing\n",
    "        if cv2.waitKey(30) & 0xff == ord('q'):\n",
    "            break\n",
    "    except Exception as e:\n",
    "        print(f\"Error processing frame: {e}\")\n",
    "        break\n",
    "\n",
    "print(\"Releasing resources...\")\n",
    "cap.release()\n",
    "cv2.destroyAllWindows()\n",
    "print(\"Video capture ended.\")"
   ]
  },
  {
   "cell_type": "code",
   "execution_count": null,
   "id": "8f796df2-a3df-41a9-9e07-9e383140e125",
   "metadata": {},
   "outputs": [],
   "source": []
  }
 ],
 "metadata": {
  "kernelspec": {
   "display_name": ".venv (3.13.5)",
   "language": "python",
   "name": "python3"
  },
  "language_info": {
   "codemirror_mode": {
    "name": "ipython",
    "version": 3
   },
   "file_extension": ".py",
   "mimetype": "text/x-python",
   "name": "python",
   "nbconvert_exporter": "python",
   "pygments_lexer": "ipython3",
   "version": "3.13.5"
  }
 },
 "nbformat": 4,
 "nbformat_minor": 5
}
